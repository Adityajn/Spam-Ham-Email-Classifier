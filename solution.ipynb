{
 "cells": [
  {
   "cell_type": "code",
   "execution_count": 1,
   "metadata": {
    "collapsed": true
   },
   "outputs": [],
   "source": [
    "import pandas as pd\n",
    "import numpy as np"
   ]
  },
  {
   "cell_type": "code",
   "execution_count": 15,
   "metadata": {},
   "outputs": [
    {
     "data": {
      "text/plain": [
       "category\n",
       "ham     3926\n",
       "spam    6074\n",
       "dtype: int64"
      ]
     },
     "execution_count": 15,
     "metadata": {},
     "output_type": "execute_result"
    }
   ],
   "source": [
    "emails = pd.read_csv('DataSets/index/train.csv',sep=\" \",header=None,names=['category','paths'],nrows=10000,skiprows=40000)\n",
    "emails['body'] = ''\n",
    "emails.groupby(\"category\").size()"
   ]
  },
  {
   "cell_type": "code",
   "execution_count": 16,
   "metadata": {},
   "outputs": [
    {
     "data": {
      "text/html": [
       "<div>\n",
       "<style>\n",
       "    .dataframe thead tr:only-child th {\n",
       "        text-align: right;\n",
       "    }\n",
       "\n",
       "    .dataframe thead th {\n",
       "        text-align: left;\n",
       "    }\n",
       "\n",
       "    .dataframe tbody tr th {\n",
       "        vertical-align: top;\n",
       "    }\n",
       "</style>\n",
       "<table border=\"1\" class=\"dataframe\">\n",
       "  <thead>\n",
       "    <tr style=\"text-align: right;\">\n",
       "      <th></th>\n",
       "      <th>category</th>\n",
       "      <th>paths</th>\n",
       "      <th>body</th>\n",
       "    </tr>\n",
       "  </thead>\n",
       "  <tbody>\n",
       "    <tr>\n",
       "      <th>0</th>\n",
       "      <td>spam</td>\n",
       "      <td>../data/inmail.40001</td>\n",
       "      <td>v\\ * {behavior url(#default#vml);}o\\ * {behavi...</td>\n",
       "    </tr>\n",
       "    <tr>\n",
       "      <th>1</th>\n",
       "      <td>ham</td>\n",
       "      <td>../data/inmail.40002</td>\n",
       "      <td>hi!i was wondering if there is a package in r ...</td>\n",
       "    </tr>\n",
       "    <tr>\n",
       "      <th>2</th>\n",
       "      <td>ham</td>\n",
       "      <td>../data/inmail.40003</td>\n",
       "      <td>amanda,this sounds like a pci error of some so...</td>\n",
       "    </tr>\n",
       "    <tr>\n",
       "      <th>3</th>\n",
       "      <td>ham</td>\n",
       "      <td>../data/inmail.40004</td>\n",
       "      <td># new ticket created by  kay uwe huell # pleas...</td>\n",
       "    </tr>\n",
       "    <tr>\n",
       "      <th>4</th>\n",
       "      <td>spam</td>\n",
       "      <td>../data/inmail.40005</td>\n",
       "      <td>ladies always giggled at me and even guys did ...</td>\n",
       "    </tr>\n",
       "    <tr>\n",
       "      <th>5</th>\n",
       "      <td>ham</td>\n",
       "      <td>../data/inmail.40006</td>\n",
       "      <td>i'm trying to write a script to efficiently ma...</td>\n",
       "    </tr>\n",
       "    <tr>\n",
       "      <th>6</th>\n",
       "      <td>spam</td>\n",
       "      <td>../data/inmail.40007</td>\n",
       "      <td>hi.we carry high grade rolex replica watches. ...</td>\n",
       "    </tr>\n",
       "    <tr>\n",
       "      <th>7</th>\n",
       "      <td>spam</td>\n",
       "      <td>../data/inmail.40008</td>\n",
       "      <td>everybody knows that a cart1er w4tch is a sile...</td>\n",
       "    </tr>\n",
       "    <tr>\n",
       "      <th>8</th>\n",
       "      <td>spam</td>\n",
       "      <td>../data/inmail.40009</td>\n",
       "      <td>documento sin título                          ...</td>\n",
       "    </tr>\n",
       "    <tr>\n",
       "      <th>9</th>\n",
       "      <td>spam</td>\n",
       "      <td>../data/inmail.40010</td>\n",
       "      <td>yours discuss friend ought.safe &amp; effective pe...</td>\n",
       "    </tr>\n",
       "  </tbody>\n",
       "</table>\n",
       "</div>"
      ],
      "text/plain": [
       "  category                 paths  \\\n",
       "0     spam  ../data/inmail.40001   \n",
       "1      ham  ../data/inmail.40002   \n",
       "2      ham  ../data/inmail.40003   \n",
       "3      ham  ../data/inmail.40004   \n",
       "4     spam  ../data/inmail.40005   \n",
       "5      ham  ../data/inmail.40006   \n",
       "6     spam  ../data/inmail.40007   \n",
       "7     spam  ../data/inmail.40008   \n",
       "8     spam  ../data/inmail.40009   \n",
       "9     spam  ../data/inmail.40010   \n",
       "\n",
       "                                                body  \n",
       "0  v\\ * {behavior url(#default#vml);}o\\ * {behavi...  \n",
       "1  hi!i was wondering if there is a package in r ...  \n",
       "2  amanda,this sounds like a pci error of some so...  \n",
       "3  # new ticket created by  kay uwe huell # pleas...  \n",
       "4  ladies always giggled at me and even guys did ...  \n",
       "5  i'm trying to write a script to efficiently ma...  \n",
       "6  hi.we carry high grade rolex replica watches. ...  \n",
       "7  everybody knows that a cart1er w4tch is a sile...  \n",
       "8  documento sin título                          ...  \n",
       "9  yours discuss friend ought.safe & effective pe...  "
      ]
     },
     "execution_count": 16,
     "metadata": {},
     "output_type": "execute_result"
    }
   ],
   "source": [
    "import email\n",
    "import codecs\n",
    "import re\n",
    "from bs4 import BeautifulSoup\n",
    "for index in range(0,len(emails.paths)):\n",
    "    fp = codecs.open(\"DataSets\"+emails.paths[index][2:], \"r\",encoding='utf-8', errors='ignore')\n",
    "    email_text = email.message_from_file(fp)\n",
    "    texts = \"\"\n",
    "    if  email_text.is_multipart():\n",
    "        for part in email_text.get_payload():\n",
    "            if part.get_content_maintype() == 'text':\n",
    "                texts += part.get_payload()\n",
    "    else:\n",
    "        texts += email_text.get_payload()\n",
    "    texts = re.sub('\\n','',texts)\n",
    "    texts = re.sub('_','',texts)\n",
    "    texts = re.sub('-',' ',texts)\n",
    "    texts = re.sub('/',' ',texts)\n",
    "    texts = re.sub(':',' ',texts)\n",
    "    texts = re.sub('$','',texts)\n",
    "    texts = re.sub('=','',texts)\n",
    "    texts = re.sub('<.*?>', '', texts)\n",
    "    emails.body[index] = \" \".join((BeautifulSoup(texts.lower(), 'html.parser').findAll(text=True)))\n",
    "    fp.close()\n",
    "emails.head(10)"
   ]
  },
  {
   "cell_type": "code",
   "execution_count": 17,
   "metadata": {},
   "outputs": [
    {
     "data": {
      "text/html": [
       "<div>\n",
       "<style>\n",
       "    .dataframe thead tr:only-child th {\n",
       "        text-align: right;\n",
       "    }\n",
       "\n",
       "    .dataframe thead th {\n",
       "        text-align: left;\n",
       "    }\n",
       "\n",
       "    .dataframe tbody tr th {\n",
       "        vertical-align: top;\n",
       "    }\n",
       "</style>\n",
       "<table border=\"1\" class=\"dataframe\">\n",
       "  <thead>\n",
       "    <tr style=\"text-align: right;\">\n",
       "      <th></th>\n",
       "      <th>category</th>\n",
       "      <th>paths</th>\n",
       "      <th>body</th>\n",
       "    </tr>\n",
       "  </thead>\n",
       "  <tbody>\n",
       "    <tr>\n",
       "      <th>0</th>\n",
       "      <td>spam</td>\n",
       "      <td>../data/inmail.40001</td>\n",
       "      <td>v\\ * {behavior url(#default#vml);}o\\ * {behavi...</td>\n",
       "    </tr>\n",
       "    <tr>\n",
       "      <th>1</th>\n",
       "      <td>ham</td>\n",
       "      <td>../data/inmail.40002</td>\n",
       "      <td>hi!i was wondering if there is a package in r ...</td>\n",
       "    </tr>\n",
       "    <tr>\n",
       "      <th>2</th>\n",
       "      <td>ham</td>\n",
       "      <td>../data/inmail.40003</td>\n",
       "      <td>amanda,this sounds like a pci error of some so...</td>\n",
       "    </tr>\n",
       "    <tr>\n",
       "      <th>3</th>\n",
       "      <td>ham</td>\n",
       "      <td>../data/inmail.40004</td>\n",
       "      <td># new ticket created by  kay uwe huell # pleas...</td>\n",
       "    </tr>\n",
       "    <tr>\n",
       "      <th>4</th>\n",
       "      <td>spam</td>\n",
       "      <td>../data/inmail.40005</td>\n",
       "      <td>ladies always giggled at me and even guys did ...</td>\n",
       "    </tr>\n",
       "    <tr>\n",
       "      <th>5</th>\n",
       "      <td>ham</td>\n",
       "      <td>../data/inmail.40006</td>\n",
       "      <td>i'm trying to write a script to efficiently ma...</td>\n",
       "    </tr>\n",
       "    <tr>\n",
       "      <th>6</th>\n",
       "      <td>spam</td>\n",
       "      <td>../data/inmail.40007</td>\n",
       "      <td>hi.we carry high grade rolex replica watches. ...</td>\n",
       "    </tr>\n",
       "    <tr>\n",
       "      <th>7</th>\n",
       "      <td>spam</td>\n",
       "      <td>../data/inmail.40008</td>\n",
       "      <td>everybody knows that a cart1er w4tch is a sile...</td>\n",
       "    </tr>\n",
       "    <tr>\n",
       "      <th>8</th>\n",
       "      <td>spam</td>\n",
       "      <td>../data/inmail.40009</td>\n",
       "      <td>documento sin título                          ...</td>\n",
       "    </tr>\n",
       "    <tr>\n",
       "      <th>9</th>\n",
       "      <td>spam</td>\n",
       "      <td>../data/inmail.40010</td>\n",
       "      <td>yours discuss friend ought.safe &amp; effective pe...</td>\n",
       "    </tr>\n",
       "  </tbody>\n",
       "</table>\n",
       "</div>"
      ],
      "text/plain": [
       "  category                 paths  \\\n",
       "0     spam  ../data/inmail.40001   \n",
       "1      ham  ../data/inmail.40002   \n",
       "2      ham  ../data/inmail.40003   \n",
       "3      ham  ../data/inmail.40004   \n",
       "4     spam  ../data/inmail.40005   \n",
       "5      ham  ../data/inmail.40006   \n",
       "6     spam  ../data/inmail.40007   \n",
       "7     spam  ../data/inmail.40008   \n",
       "8     spam  ../data/inmail.40009   \n",
       "9     spam  ../data/inmail.40010   \n",
       "\n",
       "                                                body  \n",
       "0  v\\ * {behavior url(#default#vml);}o\\ * {behavi...  \n",
       "1  hi!i was wondering if there is a package in r ...  \n",
       "2  amanda,this sounds like a pci error of some so...  \n",
       "3  # new ticket created by  kay uwe huell # pleas...  \n",
       "4  ladies always giggled at me and even guys did ...  \n",
       "5  i'm trying to write a script to efficiently ma...  \n",
       "6  hi.we carry high grade rolex replica watches. ...  \n",
       "7  everybody knows that a cart1er w4tch is a sile...  \n",
       "8  documento sin título                          ...  \n",
       "9  yours discuss friend ought.safe & effective pe...  "
      ]
     },
     "execution_count": 17,
     "metadata": {},
     "output_type": "execute_result"
    }
   ],
   "source": [
    "temails = emails[emails.body!='']\n",
    "temails.head(10)"
   ]
  },
  {
   "cell_type": "code",
   "execution_count": 18,
   "metadata": {},
   "outputs": [
    {
     "data": {
      "text/plain": [
       "(9033, 156115)"
      ]
     },
     "execution_count": 18,
     "metadata": {},
     "output_type": "execute_result"
    }
   ],
   "source": [
    "#applying bag of words algorithm\n",
    "#segment each text file into words (for English splitting by space), and \n",
    "#count # of times each word occurs in each document and finally assign each word an integer id.\n",
    "from sklearn.feature_extraction.text import CountVectorizer\n",
    "count_vect = CountVectorizer().fit(temails.body)\n",
    "X_train_counts = count_vect.transform(temails.body)\n",
    "X_train_counts.shape"
   ]
  },
  {
   "cell_type": "code",
   "execution_count": 19,
   "metadata": {},
   "outputs": [
    {
     "data": {
      "text/plain": [
       "(9033, 156115)"
      ]
     },
     "execution_count": 19,
     "metadata": {},
     "output_type": "execute_result"
    }
   ],
   "source": [
    "# TF-IDF i.e Term Frequency times inverse document frequency.\n",
    "# TF:  Just cWindesheim Honours College \"The Holland Scholarship\" Challenge\n",
    "#      it will give more weightage to longer documents than shorter documents.\n",
    "# IDF: Finally, we can even reduce the weightage of more common words like (the, is, an etc.) \n",
    "#      which occurs in all document.\n",
    "from sklearn.feature_extraction.text import TfidfTransformer\n",
    "tfidf_transformer = TfidfTransformer().fit(X_train_counts)\n",
    "X_train_tfidf = tfidf_transformer.transform(X_train_counts)\n",
    "X_train_tfidf.shape"
   ]
  },
  {
   "cell_type": "code",
   "execution_count": 20,
   "metadata": {},
   "outputs": [
    {
     "data": {
      "text/plain": [
       "0.9912542898261929"
      ]
     },
     "execution_count": 20,
     "metadata": {},
     "output_type": "execute_result"
    }
   ],
   "source": [
    "from sklearn.naive_bayes import MultinomialNB\n",
    "clf = MultinomialNB().fit(X_train_tfidf, temails.category )\n",
    "clf.score(X_train_tfidf, temails.category)"
   ]
  },
  {
   "cell_type": "code",
   "execution_count": 23,
   "metadata": {
    "scrolled": true
   },
   "outputs": [
    {
     "name": "stdout",
     "output_type": "stream",
     "text": [
      "Enter Email bodyIn the BIOS settings there is configuration for PCI slots, you may be able to do manual setting the PCI slots that  have the cards installed rather choosing auto.  Two other possible BIOS settings you could try are  turning of the \"PnP Aware OS\" setting and turning off the ACPI setting. If you try these try them one at a time to see if they make any difference.\n"
     ]
    },
    {
     "data": {
      "text/plain": [
       "(1, 156115)"
      ]
     },
     "execution_count": 23,
     "metadata": {},
     "output_type": "execute_result"
    }
   ],
   "source": [
    "text = input(\"Enter Email body\").lower()\n",
    "X_predict = count_vect.transform(np.array([text]))\n",
    "X_predict_tfidf = tfidf_transformer.transform(X_predict)\n",
    "X_predict_tfidf.shape"
   ]
  },
  {
   "cell_type": "code",
   "execution_count": 24,
   "metadata": {},
   "outputs": [
    {
     "data": {
      "text/plain": [
       "array(['ham'],\n",
       "      dtype='<U4')"
      ]
     },
     "execution_count": 24,
     "metadata": {},
     "output_type": "execute_result"
    }
   ],
   "source": [
    "clf.predict(X_predict_tfidf)"
   ]
  },
  {
   "cell_type": "code",
   "execution_count": null,
   "metadata": {
    "collapsed": true
   },
   "outputs": [],
   "source": []
  }
 ],
 "metadata": {
  "kernelspec": {
   "display_name": "Python 3",
   "language": "python",
   "name": "python3"
  },
  "language_info": {
   "codemirror_mode": {
    "name": "ipython",
    "version": 3
   },
   "file_extension": ".py",
   "mimetype": "text/x-python",
   "name": "python",
   "nbconvert_exporter": "python",
   "pygments_lexer": "ipython3",
   "version": "3.6.3"
  }
 },
 "nbformat": 4,
 "nbformat_minor": 2
}
