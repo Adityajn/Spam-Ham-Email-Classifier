{
 "cells": [
  {
   "cell_type": "code",
   "execution_count": 1,
   "metadata": {
    "collapsed": true
   },
   "outputs": [],
   "source": [
    "import pandas as pd\n",
    "import numpy as np"
   ]
  },
  {
   "cell_type": "code",
   "execution_count": 2,
   "metadata": {},
   "outputs": [
    {
     "data": {
      "text/plain": [
       "category\n",
       "ham     25220\n",
       "spam    50199\n",
       "dtype: int64"
      ]
     },
     "execution_count": 2,
     "metadata": {},
     "output_type": "execute_result"
    }
   ],
   "source": [
    "emails = pd.read_csv('DataSets/index/train.csv',sep=\" \",header=None,names=['category','paths'])\n",
    "emails['body'] = ''"
   ]
  },
  {
   "cell_type": "code",
   "execution_count": 4,
   "metadata": {},
   "outputs": [
    {
     "data": {
      "text/plain": [
       "category\n",
       "ham     25220\n",
       "spam    50199\n",
       "dtype: int64"
      ]
     },
     "execution_count": 4,
     "metadata": {},
     "output_type": "execute_result"
    }
   ],
   "source": [
    "import email\n",
    "import codecs\n",
    "import re\n",
    "from bs4 import BeautifulSoup\n",
    "for index in range(0,len(emails.paths)):\n",
    "    fp = codecs.open(\"DataSets\"+emails.paths[index][2:], \"r\",encoding='utf-8', errors='ignore')\n",
    "    email_text = email.message_from_file(fp)\n",
    "    texts = \"\"\n",
    "    if  email_text.is_multipart():\n",
    "        for part in email_text.get_payload():\n",
    "            if part.get_content_maintype() == 'text':\n",
    "                texts += part.get_payload()\n",
    "    else:\n",
    "        texts += email_text.get_payload()\n",
    "    texts = re.sub('\\n','',texts)\n",
    "    texts = re.sub('_','',texts)\n",
    "    texts = re.sub('-',' ',texts)\n",
    "    texts = re.sub('/',' ',texts)\n",
    "    texts = re.sub(':',' ',texts)\n",
    "    texts = re.sub('$','',texts)\n",
    "    texts = re.sub('=','',texts)\n",
    "    texts = re.sub('<.*?>', '', texts)\n",
    "    emails.body[index] = \" \".join((BeautifulSoup(texts.lower(), 'html.parser').findAll(text=True)))\n",
    "    fp.close()\n",
    "emails.groupby(\"category\").size()"
   ]
  },
  {
   "cell_type": "code",
   "execution_count": 5,
   "metadata": {},
   "outputs": [
    {
     "data": {
      "text/plain": [
       "category\n",
       "ham     50000\n",
       "spam    50000\n",
       "dtype: int64"
      ]
     },
     "execution_count": 5,
     "metadata": {},
     "output_type": "execute_result"
    }
   ],
   "source": [
    "temails = emails[emails.body!='']\n",
    "temails=temails[['category','body']]\n",
    "te_spam=temails.loc[temails['category']=='spam'].sample(50000,replace=True)\n",
    "te_ham=temails.loc[temails['category']=='ham'].sample(50000,replace=True)\n",
    "temails=pd.concat([te_spam,te_ham])\n",
    "temails.groupby('category').size()"
   ]
  },
  {
   "cell_type": "code",
   "execution_count": 7,
   "metadata": {},
   "outputs": [],
   "source": [
    "import nltk\n",
    "#nltk.download()\n",
    "from nltk.stem.snowball import SnowballStemmer\n",
    "from sklearn.feature_extraction.text import CountVectorizer\n",
    "class StemmedCountVectorizer(CountVectorizer):\n",
    "    def build_analyzer(self):\n",
    "        stemmer = SnowballStemmer(\"english\", ignore_stopwords=True)\n",
    "        analyzer = super(StemmedCountVectorizer, self).build_analyzer()\n",
    "        return lambda doc: ([stemmer.stem(w) for w in analyzer(doc)])"
   ]
  },
  {
   "cell_type": "code",
   "execution_count": 8,
   "metadata": {},
   "outputs": [
    {
     "data": {
      "text/plain": [
       "(100000, 418641)"
      ]
     },
     "execution_count": 8,
     "metadata": {},
     "output_type": "execute_result"
    }
   ],
   "source": [
    "#applying bag of words algorithm\n",
    "#segment each text file into words (for English splitting by space), and \n",
    "#count # of times each word occurs in each document and finally assign each word an integer id.\n",
    "count_vect = StemmedCountVectorizer(stop_words='english').fit(temails.body)\n",
    "X_train_counts = count_vect.transform(temails.body)\n",
    "X_train_counts.shape"
   ]
  },
  {
   "cell_type": "code",
   "execution_count": 9,
   "metadata": {},
   "outputs": [
    {
     "data": {
      "text/plain": [
       "(100000, 418641)"
      ]
     },
     "execution_count": 9,
     "metadata": {},
     "output_type": "execute_result"
    }
   ],
   "source": [
    "# TF-IDF i.e Term Frequency times inverse document frequency.\n",
    "# TF:  It will give more weightage to longer documents than shorter documents.\n",
    "# IDF: Finally, we can even reduce the weightage of more common words like (the, is, an etc.) \n",
    "#      which occurs in all document.\n",
    "from sklearn.feature_extraction.text import TfidfTransformer\n",
    "tfidf_transformer = TfidfTransformer().fit(X_train_counts)\n",
    "X_train_tfidf = tfidf_transformer.transform(X_train_counts)\n",
    "X_train_tfidf.shape"
   ]
  },
  {
   "cell_type": "code",
   "execution_count": null,
   "metadata": {},
   "outputs": [],
   "source": [
    "from sklearn.naive_bayes import MultinomialNB\n",
    "clf = MultinomialNB().fit(X_train_tfidf, temails.category )\n",
    "clf.score(X_train_tfidf, temails.category)"
   ]
  },
  {
   "cell_type": "code",
   "execution_count": null,
   "metadata": {
    "scrolled": true
   },
   "outputs": [],
   "source": [
    "text = input(\"Enter Email body\").lower()\n",
    "X_predict = count_vect.transform(np.array([text]))\n",
    "X_predict_tfidf = tfidf_transformer.transform(X_predict)\n",
    "X_predict_tfidf.shape"
   ]
  },
  {
   "cell_type": "code",
   "execution_count": null,
   "metadata": {},
   "outputs": [],
   "source": [
    "clf.predict(X_predict_tfidf)"
   ]
  },
  {
   "cell_type": "code",
   "execution_count": null,
   "metadata": {
    "collapsed": true
   },
   "outputs": [],
   "source": []
  },
  {
   "cell_type": "code",
   "execution_count": null,
   "metadata": {
    "collapsed": true
   },
   "outputs": [],
   "source": []
  }
 ],
 "metadata": {
  "kernelspec": {
   "display_name": "Python 3",
   "language": "python",
   "name": "python3"
  },
  "language_info": {
   "codemirror_mode": {
    "name": "ipython",
    "version": 3
   },
   "file_extension": ".py",
   "mimetype": "text/x-python",
   "name": "python",
   "nbconvert_exporter": "python",
   "pygments_lexer": "ipython3",
   "version": "3.6.3"
  }
 },
 "nbformat": 4,
 "nbformat_minor": 2
}
